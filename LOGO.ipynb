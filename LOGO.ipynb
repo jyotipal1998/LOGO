{
 "cells": [
  {
   "cell_type": "code",
   "execution_count": 1,
   "id": "b6c49d40",
   "metadata": {},
   "outputs": [],
   "source": [
    "import turtle"
   ]
  },
  {
   "cell_type": "code",
   "execution_count": 2,
   "id": "71df5aa7",
   "metadata": {},
   "outputs": [],
   "source": [
    "turtle.Screen().bgcolor(\"black\")"
   ]
  },
  {
   "cell_type": "code",
   "execution_count": 3,
   "id": "7c9a5e7f",
   "metadata": {},
   "outputs": [],
   "source": [
    "t = turtle.Turtle()"
   ]
  },
  {
   "cell_type": "code",
   "execution_count": 4,
   "id": "3786ae94",
   "metadata": {},
   "outputs": [],
   "source": [
    "t.speed(10)\n",
    "t.pensize(10)\n",
    "t.penup()"
   ]
  },
  {
   "cell_type": "code",
   "execution_count": 5,
   "id": "09e3571d",
   "metadata": {},
   "outputs": [],
   "source": [
    "def draw_eagle():\n",
    "    t.setposition(0,-280)\n",
    "    t.pendown()\n",
    "    t.begin_fill()\n",
    "    t.color('red')\n",
    "    t.pencolor('white')\n",
    "    t.circle(300)\n",
    "    t.end_fill()\n",
    "    t.penup()  "
   ]
  },
  {
   "cell_type": "code",
   "execution_count": 6,
   "id": "a304b0c0",
   "metadata": {},
   "outputs": [],
   "source": [
    "def draw_circle2():\n",
    "    t.pensize(2)\n",
    "    t.setposition(0,-280)\n",
    "    t.pendown()\n",
    "    t.begin_fill()\n",
    "    t.color('black')\n",
    "    t.circle(250)\n",
    "    t.end_fill()\n",
    "    t.penup()\n",
    "    \n",
    "def draw_A():\n",
    "    t.setposition(30,-110)\n",
    "    t.pendown()\n",
    "    t.begin_fill()\n",
    "    t.color('red')\n",
    "    t.pensize(10)\n",
    "    t.pencolor('white')\n",
    "    t.forward(23)\n",
    "    t.backward(123)\n",
    "    t.left(60)\n",
    "    t.backward(220)\n",
    "    t.right(60)\n",
    "    t.backward(100)\n",
    "    t.right(117)\n",
    "    t.backward(710)\n",
    "    t.right(63)\n",
    "    t.backward(110)\n",
    "    t.right(90)\n",
    "    t.backward(510)\n",
    "    t.right(90)\n",
    "    t.backward(100)\n",
    "    t.right(90)\n",
    "    t.backward(70)\n",
    "    t.end_fill()\n",
    "    t.penup()\n",
    "    \n",
    "draw_eagle()\n",
    "draw_circle2()\n",
    "draw_A()"
   ]
  },
  {
   "cell_type": "code",
   "execution_count": 7,
   "id": "dbf9a141",
   "metadata": {},
   "outputs": [],
   "source": [
    "def draw_triangle():\n",
    "    t.pensize(10)\n",
    "    t.setposition(53,-40)\n",
    "    t.pendown()\n",
    "    t.begin_fill()\n",
    "    t.color('black')\n",
    "    t.pencolor('white')\n",
    "    t.right(90)\n",
    "    t.forward(100)\n",
    "    t.right(115)\n",
    "    t.forward(250)\n",
    "    t.right(157)\n",
    "    t.forward(227)\n",
    "    t.end_fill()\n",
    "    \n",
    "draw_triangle()"
   ]
  },
  {
   "cell_type": "code",
   "execution_count": 8,
   "id": "70a90ba2",
   "metadata": {},
   "outputs": [],
   "source": [
    "def draw_arrow():\n",
    "    t.backward(80)\n",
    "    t.left(42)\n",
    "    t.forward(147)\n",
    "    t.right(83)\n",
    "    t.forward(140)\n",
    "    \n",
    "draw_arrow()"
   ]
  },
  {
   "cell_type": "code",
   "execution_count": null,
   "id": "9ab486ef",
   "metadata": {},
   "outputs": [],
   "source": [
    "t.hideturtle()\n",
    "turtle.done()"
   ]
  },
  {
   "cell_type": "code",
   "execution_count": null,
   "id": "8c9fc871",
   "metadata": {},
   "outputs": [],
   "source": []
  }
 ],
 "metadata": {
  "kernelspec": {
   "display_name": "Python 3 (ipykernel)",
   "language": "python",
   "name": "python3"
  },
  "language_info": {
   "codemirror_mode": {
    "name": "ipython",
    "version": 3
   },
   "file_extension": ".py",
   "mimetype": "text/x-python",
   "name": "python",
   "nbconvert_exporter": "python",
   "pygments_lexer": "ipython3",
   "version": "3.9.7"
  }
 },
 "nbformat": 4,
 "nbformat_minor": 5
}
